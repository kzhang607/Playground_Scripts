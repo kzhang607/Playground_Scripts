{
 "cells": [
  {
   "cell_type": "markdown",
   "metadata": {},
   "source": [
    "### Int & Float"
   ]
  },
  {
   "cell_type": "code",
   "execution_count": 10,
   "metadata": {},
   "outputs": [
    {
     "data": {
      "text/plain": [
       "3"
      ]
     },
     "execution_count": 10,
     "metadata": {},
     "output_type": "execute_result"
    }
   ],
   "source": [
    "type(1) #int\n",
    "type(-10) #int\n",
    "type(2.2) #float\n",
    "10//3  #floor division -- no decimals and returns an int"
   ]
  },
  {
   "cell_type": "markdown",
   "metadata": {},
   "source": [
    "### Arithmetic Operators"
   ]
  },
  {
   "cell_type": "code",
   "execution_count": 15,
   "metadata": {},
   "outputs": [
    {
     "data": {
      "text/plain": [
       "3"
      ]
     },
     "execution_count": 15,
     "metadata": {},
     "output_type": "execute_result"
    }
   ],
   "source": [
    "10 + 3 #13\n",
    "10 - 3 #7\n",
    "10 * 3 #30\n",
    "10 ** 3 #1000\n",
    "10 / 3 #3.333\n",
    "10 // 3 #3 --> floor division - no decimals and returns an int\n",
    "10 % 3 #1 --> modulo operator - returns the remained, good for deciding if the number is even or ood"
   ]
  },
  {
   "cell_type": "markdown",
   "metadata": {},
   "source": [
    "### Basic Functions"
   ]
  },
  {
   "cell_type": "code",
   "execution_count": 23,
   "metadata": {},
   "outputs": [
    {
     "data": {
      "text/plain": [
       "'0x200'"
      ]
     },
     "execution_count": 23,
     "metadata": {},
     "output_type": "execute_result"
    }
   ],
   "source": [
    "pow(5, 2)   #25 --> like doing 5**2\n",
    "abs(-50)    #returns absolute value\n",
    "round(5.51) #6\n",
    "round(5.468, 2) #5.47 --> rounds to the nth digit\n",
    "bin(512)    #binary format\n",
    "hex(512)    #hexadecimal format"
   ]
  },
  {
   "cell_type": "markdown",
   "metadata": {},
   "source": [
    "### Strings"
   ]
  },
  {
   "cell_type": "code",
   "execution_count": 27,
   "metadata": {},
   "outputs": [
    {
     "name": "stdout",
     "output_type": "stream",
     "text": [
      "Hello \n",
      "\t Hello again\n",
      "Hello Kevin and Jen\n",
      "Hello there Kevin and Jen\n",
      "Hello there Kevin and Jen\n"
     ]
    }
   ],
   "source": [
    "#Converting Strings to Numbers\n",
    "age = 24\n",
    "#age = input(\"How old are you\")\n",
    "age = int(age)\n",
    "float_age = float(age)\n",
    "\n",
    "#Basic Strings\n",
    "type('Hello')   #str\n",
    "\"\\n\"    #new line\n",
    "\"\\t\"    #adds a tab\n",
    "print(\"Hello \\n\" + \"\\t Hello again\")\n",
    "'Hi there' + 'Kevin'    #\"Hi there Kevin\"   --> string concatenation\n",
    "'*'*10  #**********\n",
    "\n",
    "#Indexing\n",
    "'Hello'[4]  #returns 'o'\n",
    "name = 'Kevin Zhang'\n",
    "name[4] #returns 'n'\n",
    "name[:] #returns 'Kevin Zhang'\n",
    "name[1:]    #returns 'evin Zhang'\n",
    "name[:1]    #returns 'K'\n",
    "name[-1]    #returns 'g'\n",
    "name[::1]   #returns 'Kevin Zhang'\n",
    "name[::-1]  #returns 'gnahZ niveK'\n",
    "name[0:10:2]    #returns 'KvnZa' --> this is slicing and has the format [start:end:stepover]\n",
    "\n",
    "len('turtle')   #returns 6\n",
    "\n",
    "#Basic Methods\n",
    "'    Hello'.strip()     #strips all whitespace characters from both ends\n",
    "'Hello'.strip('e')      #strips all passed characters from both ends     \n",
    "'life is good'.split()  #splits by each word\n",
    "'Hi there'.replace('there', 'where')    #replaces first w/ second parameter\n",
    "'Hi there'.startswith('Hi') #returns true\n",
    "'Hi there'.endswith('there')    #returns true\n",
    "'bye bye'.index('e')    #returns 2\n",
    "'hello'.upper() #all caps\n",
    "'HELLO'.lower() #lower case\n",
    "'ok, that is it'.capitalize() #capitalizes first letter\n",
    "'hi there'.find('i')    #returns index of first occurence\n",
    "'hello'.count('l')      #returns occurences of param\n",
    "\n",
    "#String Formatting\n",
    "name1 = 'Kevin'\n",
    "name2 = 'Jen'\n",
    "print(f'Hello {name1} and {name2}') #f-strings - all variables inside curly brackets are read and replaced by their value\n",
    "print('Hello there {} and {}'.format(name1, name2)) #same thing as f-string\n",
    "print('Hello there %s and %s' %(name1, name2))  #can also use %d, %f, %r for integers, floats, string representations of objects\n"
   ]
  },
  {
   "cell_type": "markdown",
   "metadata": {},
   "source": [
    "### Lists\n",
    "\n",
    "Lists are mutable sequences in Python. Mutable means it is possible to change their values"
   ]
  },
  {
   "cell_type": "code",
   "execution_count": 39,
   "metadata": {},
   "outputs": [
    {
     "data": {
      "text/plain": [
       "[True, '3', 2, 1]"
      ]
     },
     "execution_count": 39,
     "metadata": {},
     "output_type": "execute_result"
    }
   ],
   "source": [
    "my_list = [1, 2, '3', True]\n",
    "len(my_list)    # returns 4\n",
    "my_list.index('3')  #returns 2\n",
    "my_list.count(2)    #counts how many times 2 appears\n",
    "\n",
    "my_list[3]  #returns True\n",
    "my_list[1:] #returns everything after 1st value\n",
    "my_list[:1] #returns first value and before\n",
    "my_list[-1] #returns last value\n",
    "my_list[1:3:1]    #returns [2, '3'] -- this is slicing and has the format [start:end:stepover]\n",
    "my_list[::-1]   #returns list backwards"
   ]
  },
  {
   "cell_type": "code",
   "execution_count": 46,
   "metadata": {},
   "outputs": [
    {
     "data": {
      "text/plain": [
       "'Hello There'"
      ]
     },
     "execution_count": 46,
     "metadata": {},
     "output_type": "execute_result"
    }
   ],
   "source": [
    "#adding to a list\n",
    "my_list * 2 #doubles the list\n",
    "my_list + [100] #adds the value 100 --> using + dopes not mutate the original list, it just creates a new one\n",
    "my_list.append(100) #mutates original list to include 100\n",
    "my_list.extend([100,200]) #mutates original list\n",
    "my_list.insert(2, 'K')  #inserts item at index and moves the rest to the right\n",
    "\n",
    "' '.join(['Hello', 'There'])    #joins elements together using a string as a separator"
   ]
  },
  {
   "cell_type": "code",
   "execution_count": 49,
   "metadata": {},
   "outputs": [],
   "source": [
    "#copy a list\n",
    "basket = ['apple', 'pear', 'orange']\n",
    "new_basket = basket.copy()\n",
    "new_basket2 = basket[:] #both methods do the same thing"
   ]
  },
  {
   "cell_type": "code",
   "execution_count": 54,
   "metadata": {},
   "outputs": [],
   "source": [
    "#Remove from list\n",
    "[1,2,3].pop()   #returns 3 --> mutates original list, default index in the pop method is -1 (last item)\n",
    "[1,2,3].pop(0)  #returns 1 --> pops value at that index\n",
    "[1,2,3].remove(2) #removes first matching element\n",
    "[1,2,3].clear() #mutates original list and removes all items"
   ]
  },
  {
   "cell_type": "code",
   "execution_count": 59,
   "metadata": {},
   "outputs": [
    {
     "data": {
      "text/plain": [
       "[3, 5, 2, 1]"
      ]
     },
     "execution_count": 59,
     "metadata": {},
     "output_type": "execute_result"
    }
   ],
   "source": [
    "#Ordering list\n",
    "[1,2,5,3].sort()    #mutates list to [1,2,3,5]\n",
    "[1,2,5,3].sort(reverse=True)    #mutates list to [5,3,2,1]\n",
    "[1,2,3,5].reverse() #mutates list to [3,5,2,1]\n",
    "sorted([1,2,5,3])   #created a new list\n",
    "list(reversed([1,2,5,3]))   #reversed() returns an iterator"
   ]
  },
  {
   "cell_type": "code",
   "execution_count": 63,
   "metadata": {},
   "outputs": [
    {
     "data": {
      "text/plain": [
       "11"
      ]
     },
     "execution_count": 63,
     "metadata": {},
     "output_type": "execute_result"
    }
   ],
   "source": [
    "#Useful Operations\n",
    "1 in [1,2,3,5]  #returns True\n",
    "min([1,2,3,5])  #returns smallest value\n",
    "max([1,2,3,5])  #returns largest value\n",
    "sum([1,2,3,5])  #sums up all values"
   ]
  },
  {
   "cell_type": "code",
   "execution_count": 65,
   "metadata": {},
   "outputs": [
    {
     "name": "stdout",
     "output_type": "stream",
     "text": [
      "1\n",
      "4\n"
     ]
    }
   ],
   "source": [
    "#Get first and last element of the list\n",
    "new_list = [1,2,4,5,2,3,7,4]\n",
    "first, *x, last = new_list # * operator collects all the elements of the list between the first and last elements into a new list\n",
    "print(first)\n",
    "print(last)"
   ]
  },
  {
   "cell_type": "code",
   "execution_count": 74,
   "metadata": {},
   "outputs": [
    {
     "name": "stdout",
     "output_type": "stream",
     "text": [
      "1\n",
      "2\n",
      "3\n",
      "4\n",
      "5\n",
      "6\n"
     ]
    }
   ],
   "source": [
    "#Matrix\n",
    "matrix = [[1,2,3], [4,5,6], [7,8,9]]\n",
    "matrix[2][0] #in the second index list value, grab the first element\n",
    "\n",
    "#looping through a matrix by rows\n",
    "matrix2 = [[1,2,3],[4,5,6]]\n",
    "for row in range(len(matrix2)):\n",
    "    for col in range(len(matrix2[0])):\n",
    "        print(matrix2[row][col])\n",
    "\n",
    "#List Comprehension\n",
    "#new_list[<action> for <item> in <iterator> if <some condition>]\n",
    "a = [i for i in 'hello']    #returns each letters of hello in a list\n",
    "b = [i * 2 for i in [1,2,3]]    #multiplies each value in the list by 2\n",
    "c = [i for i in range(0,10) if i % 2 == 0]  #[0, 2, 4, 6, 8] -- return every value in the range of 0-10 if the value divided by 2 has no remainder"
   ]
  },
  {
   "cell_type": "code",
   "execution_count": null,
   "metadata": {},
   "outputs": [],
   "source": []
  }
 ],
 "metadata": {
  "kernelspec": {
   "display_name": "base",
   "language": "python",
   "name": "python3"
  },
  "language_info": {
   "codemirror_mode": {
    "name": "ipython",
    "version": 3
   },
   "file_extension": ".py",
   "mimetype": "text/x-python",
   "name": "python",
   "nbconvert_exporter": "python",
   "pygments_lexer": "ipython3",
   "version": "3.11.5"
  }
 },
 "nbformat": 4,
 "nbformat_minor": 2
}
